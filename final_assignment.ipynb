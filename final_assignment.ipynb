{
 "cells": [
  {
   "cell_type": "markdown",
   "metadata": {},
   "source": [
    "# Final Assignment\n",
    "\n",
    "1. What are the socio-demographic variables we want to use?\n",
    "    * age  \n",
    "    * gender \n",
    "    * educational attainment  \n",
    "    * income level  \n",
    "    * race / ethnicity    \n",
    "\n",
    "2. Types of models to test:  \n",
    "    * Logistic regression  \n",
    "    * Neural network  \n",
    "\n",
    "3. Outcome variables to predict:  \n",
    "    * (did you spend time in a hospital) ch07a229; ch08b229; ch09c229; ch10d229; ch11e229; ch12f229; ch13g229; ch15h229; ch16i229; ch17j229; ch18k229; ch19l229; ch20m229  \n",
    "    * (how long in the hospital) ch07a230; ch08b230; ch09c230; ch10d230; ch11e230; ch12f230; ch13g230; ch15h230; ch16i230; ch17j230; ch18k230; ch19l230; ch20m230  \n",
    "    * (underwent an operation in the hospital) ch07a231; ch08b231; ch09c231; ch10d231; ch11e231; ch12f231; ch13g231; ch15h231; ch16i231; ch17j231; ch18k231; ch19l231; ch20m231  \n",
    "    * (how would you describe your health 1-5) ch07a004; ch08b004; ch09c004; ch10d004; ch11e004; ch12f004; ch13g004; ch15h004; ch16i004; ch17j004; ch18k004; ch19l004; ch20m004  \n",
    "    * (is your health better or worse than last year) ch07a005; ch08b005; ch09c005; ch10d005; ch11e005; ch12f005; ch13g005; ch15h005; ch16i005; ch17j005; ch18k005; ch19l005; ch20m005  \n",
    "\n",
    "ch07a229; ch08b229; ch09c229; ch10d229; ch11e229; ch12f229; ch13g229; ch15h229; ch16i229; ch17j229; ch18k229; ch19l229; ch20m229 (did you spend time in a hospital)  \n",
    "\n",
    "ch07a230; ch08b230; ch09c230; ch10d230; ch11e230; ch12f230; ch13g230; ch15h230; ch16i230; ch17j230; ch18k230; ch19l230; ch20m230 (how long in the hospital)  \n",
    "\n",
    "ch07a231; ch08b231; ch09c231; ch10d231; ch11e231; ch12f231; ch13g231; ch15h231; ch16i231; ch17j231; ch18k231; ch19l231; ch20m231 (underwent an operation in the hospital)  \n",
    "\n",
    "ch07a004; ch08b004; ch09c004; ch10d004; ch11e004; ch12f004; ch13g004; ch15h004; ch16i004; ch17j004; ch18k004; ch19l004; ch20m004 (how would you describe your health 1-5)  \n",
    "\n",
    "ch07a005; ch08b005; ch09c005; ch10d005; ch11e005; ch12f005; ch13g005; ch15h005; ch16i005; ch17j005; ch18k005; ch19l005; ch20m005 (is your health better or worse than last year)  \n"
   ]
  },
  {
   "cell_type": "code",
   "execution_count": null,
   "metadata": {},
   "outputs": [],
   "source": []
  }
 ],
 "metadata": {
  "language_info": {
   "name": "python"
  }
 },
 "nbformat": 4,
 "nbformat_minor": 2
}
